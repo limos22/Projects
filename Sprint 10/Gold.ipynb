{
 "cells": [
  {
   "cell_type": "markdown",
   "metadata": {},
   "source": [
    "# Gold Recovery ML"
   ]
  },
  {
   "cell_type": "markdown",
   "metadata": {},
   "source": [
    "The data is stored in three files:\n",
    "\n",
    "gold_recovery_train.csv — training dataset [download](https://practicum-content.s3.us-west-1.amazonaws.com/datasets/gold_recovery_train.csv)\n",
    "\n",
    "gold_recovery_test.csv — test dataset [download](https://practicum-content.s3.us-west-1.amazonaws.com/datasets/gold_recovery_test.csv)\n",
    "\n",
    "gold_recovery_full.csv — source dataset [download](https://practicum-content.s3.us-west-1.amazonaws.com/datasets/gold_recovery_full.csv)\n",
    "\n",
    "Data is indexed with the date and time of acquisition (date feature). Parameters that are next to each other in terms of time are often similar. Some of the features that are present in the training set may be absent from the test set. The test set also doesn't contain targets.The source dataset contains the training and test sets with all the features.\n",
    "\n",
    "It starts off as raw data that was downloaded from the warehouse.\n",
    "\n"
   ]
  },
  {
   "cell_type": "code",
   "execution_count": 2,
   "metadata": {},
   "outputs": [],
   "source": [
    "import pandas as pd \n",
    "import numpy as np\n",
    "import matplotlib.pyplot as plt\n",
    "from sklearn.metrics import mean_absolute_error\n",
    "from sklearn.model_selection import train_test_split, cross_val_score\n",
    "from sklearn.ensemble import RandomForestRegressor\n",
    "from sklearn.linear_model import LinearRegression\n",
    "from sklearn.tree import DecisionTreeRegressor\n",
    "from sklearn.preprocessing import StandardScaler"
   ]
  },
  {
   "cell_type": "markdown",
   "metadata": {},
   "source": [
    "## Prepare the data"
   ]
  },
  {
   "cell_type": "markdown",
   "metadata": {},
   "source": [
    "### Open the files and look into the data."
   ]
  },
  {
   "cell_type": "code",
   "execution_count": 4,
   "metadata": {},
   "outputs": [],
   "source": [
    "train_df = pd.read_csv('./datasets/gold_recovery_train.csv')\n",
    "test_df = pd.read_csv('./datasets/gold_recovery_test.csv')\n",
    "full_df = pd.read_csv('./datasets/gold_recovery_full.csv')"
   ]
  },
  {
   "cell_type": "markdown",
   "metadata": {},
   "source": [
    "### Train DF"
   ]
  },
  {
   "cell_type": "code",
   "execution_count": 5,
   "metadata": {},
   "outputs": [
    {
     "name": "stdout",
     "output_type": "stream",
     "text": [
      "                  date  final.output.concentrate_ag  \\\n",
      "0  2016-01-15 00:00:00                     6.055403   \n",
      "1  2016-01-15 01:00:00                     6.029369   \n",
      "2  2016-01-15 02:00:00                     6.055926   \n",
      "3  2016-01-15 03:00:00                     6.047977   \n",
      "4  2016-01-15 04:00:00                     6.148599   \n",
      "\n",
      "   final.output.concentrate_pb  final.output.concentrate_sol  \\\n",
      "0                     9.889648                      5.507324   \n",
      "1                     9.968944                      5.257781   \n",
      "2                    10.213995                      5.383759   \n",
      "3                     9.977019                      4.858634   \n",
      "4                    10.142511                      4.939416   \n",
      "\n",
      "   final.output.concentrate_au  final.output.recovery  final.output.tail_ag  \\\n",
      "0                    42.192020              70.541216             10.411962   \n",
      "1                    42.701629              69.266198             10.462676   \n",
      "2                    42.657501              68.116445             10.507046   \n",
      "3                    42.689819              68.347543             10.422762   \n",
      "4                    42.774141              66.927016             10.360302   \n",
      "\n",
      "   final.output.tail_pb  final.output.tail_sol  final.output.tail_au  ...  \\\n",
      "0              0.895447              16.904297              2.143149  ...   \n",
      "1              0.927452              16.634514              2.224930  ...   \n",
      "2              0.953716              16.208849              2.257889  ...   \n",
      "3              0.883763              16.532835              2.146849  ...   \n",
      "4              0.792826              16.525686              2.055292  ...   \n",
      "\n",
      "   secondary_cleaner.state.floatbank4_a_air  \\\n",
      "0                                 14.016835   \n",
      "1                                 13.992281   \n",
      "2                                 14.015015   \n",
      "3                                 14.036510   \n",
      "4                                 14.027298   \n",
      "\n",
      "   secondary_cleaner.state.floatbank4_a_level  \\\n",
      "0                                 -502.488007   \n",
      "1                                 -505.503262   \n",
      "2                                 -502.520901   \n",
      "3                                 -500.857308   \n",
      "4                                 -499.838632   \n",
      "\n",
      "   secondary_cleaner.state.floatbank4_b_air  \\\n",
      "0                                 12.099931   \n",
      "1                                 11.950531   \n",
      "2                                 11.912783   \n",
      "3                                 11.999550   \n",
      "4                                 11.953070   \n",
      "\n",
      "   secondary_cleaner.state.floatbank4_b_level  \\\n",
      "0                                 -504.715942   \n",
      "1                                 -501.331529   \n",
      "2                                 -501.133383   \n",
      "3                                 -501.193686   \n",
      "4                                 -501.053894   \n",
      "\n",
      "   secondary_cleaner.state.floatbank5_a_air  \\\n",
      "0                                  9.925633   \n",
      "1                                 10.039245   \n",
      "2                                 10.070913   \n",
      "3                                  9.970366   \n",
      "4                                  9.925709   \n",
      "\n",
      "   secondary_cleaner.state.floatbank5_a_level  \\\n",
      "0                                 -498.310211   \n",
      "1                                 -500.169983   \n",
      "2                                 -500.129135   \n",
      "3                                 -499.201640   \n",
      "4                                 -501.686727   \n",
      "\n",
      "   secondary_cleaner.state.floatbank5_b_air  \\\n",
      "0                                  8.079666   \n",
      "1                                  7.984757   \n",
      "2                                  8.013877   \n",
      "3                                  7.977324   \n",
      "4                                  7.894242   \n",
      "\n",
      "   secondary_cleaner.state.floatbank5_b_level  \\\n",
      "0                                 -500.470978   \n",
      "1                                 -500.582168   \n",
      "2                                 -500.517572   \n",
      "3                                 -500.255908   \n",
      "4                                 -500.356035   \n",
      "\n",
      "   secondary_cleaner.state.floatbank6_a_air  \\\n",
      "0                                 14.151341   \n",
      "1                                 13.998353   \n",
      "2                                 14.028663   \n",
      "3                                 14.005551   \n",
      "4                                 13.996647   \n",
      "\n",
      "   secondary_cleaner.state.floatbank6_a_level  \n",
      "0                                 -605.841980  \n",
      "1                                 -599.787184  \n",
      "2                                 -601.427363  \n",
      "3                                 -599.996129  \n",
      "4                                 -601.496691  \n",
      "\n",
      "[5 rows x 87 columns]\n"
     ]
    }
   ],
   "source": [
    "print(train_df.head())"
   ]
  },
  {
   "cell_type": "code",
   "execution_count": 4,
   "metadata": {},
   "outputs": [
    {
     "name": "stdout",
     "output_type": "stream",
     "text": [
      "<class 'pandas.core.frame.DataFrame'>\n",
      "RangeIndex: 16860 entries, 0 to 16859\n",
      "Data columns (total 87 columns):\n",
      " #   Column                                              Non-Null Count  Dtype  \n",
      "---  ------                                              --------------  -----  \n",
      " 0   date                                                16860 non-null  object \n",
      " 1   final.output.concentrate_ag                         16788 non-null  float64\n",
      " 2   final.output.concentrate_pb                         16788 non-null  float64\n",
      " 3   final.output.concentrate_sol                        16490 non-null  float64\n",
      " 4   final.output.concentrate_au                         16789 non-null  float64\n",
      " 5   final.output.recovery                               15339 non-null  float64\n",
      " 6   final.output.tail_ag                                16794 non-null  float64\n",
      " 7   final.output.tail_pb                                16677 non-null  float64\n",
      " 8   final.output.tail_sol                               16715 non-null  float64\n",
      " 9   final.output.tail_au                                16794 non-null  float64\n",
      " 10  primary_cleaner.input.sulfate                       15553 non-null  float64\n",
      " 11  primary_cleaner.input.depressant                    15598 non-null  float64\n",
      " 12  primary_cleaner.input.feed_size                     16860 non-null  float64\n",
      " 13  primary_cleaner.input.xanthate                      15875 non-null  float64\n",
      " 14  primary_cleaner.output.concentrate_ag               16778 non-null  float64\n",
      " 15  primary_cleaner.output.concentrate_pb               16502 non-null  float64\n",
      " 16  primary_cleaner.output.concentrate_sol              16224 non-null  float64\n",
      " 17  primary_cleaner.output.concentrate_au               16778 non-null  float64\n",
      " 18  primary_cleaner.output.tail_ag                      16777 non-null  float64\n",
      " 19  primary_cleaner.output.tail_pb                      16761 non-null  float64\n",
      " 20  primary_cleaner.output.tail_sol                     16579 non-null  float64\n",
      " 21  primary_cleaner.output.tail_au                      16777 non-null  float64\n",
      " 22  primary_cleaner.state.floatbank8_a_air              16820 non-null  float64\n",
      " 23  primary_cleaner.state.floatbank8_a_level            16827 non-null  float64\n",
      " 24  primary_cleaner.state.floatbank8_b_air              16820 non-null  float64\n",
      " 25  primary_cleaner.state.floatbank8_b_level            16833 non-null  float64\n",
      " 26  primary_cleaner.state.floatbank8_c_air              16822 non-null  float64\n",
      " 27  primary_cleaner.state.floatbank8_c_level            16833 non-null  float64\n",
      " 28  primary_cleaner.state.floatbank8_d_air              16821 non-null  float64\n",
      " 29  primary_cleaner.state.floatbank8_d_level            16833 non-null  float64\n",
      " 30  rougher.calculation.sulfate_to_au_concentrate       16833 non-null  float64\n",
      " 31  rougher.calculation.floatbank10_sulfate_to_au_feed  16833 non-null  float64\n",
      " 32  rougher.calculation.floatbank11_sulfate_to_au_feed  16833 non-null  float64\n",
      " 33  rougher.calculation.au_pb_ratio                     15618 non-null  float64\n",
      " 34  rougher.input.feed_ag                               16778 non-null  float64\n",
      " 35  rougher.input.feed_pb                               16632 non-null  float64\n",
      " 36  rougher.input.feed_rate                             16347 non-null  float64\n",
      " 37  rougher.input.feed_size                             16443 non-null  float64\n",
      " 38  rougher.input.feed_sol                              16568 non-null  float64\n",
      " 39  rougher.input.feed_au                               16777 non-null  float64\n",
      " 40  rougher.input.floatbank10_sulfate                   15816 non-null  float64\n",
      " 41  rougher.input.floatbank10_xanthate                  16514 non-null  float64\n",
      " 42  rougher.input.floatbank11_sulfate                   16237 non-null  float64\n",
      " 43  rougher.input.floatbank11_xanthate                  14956 non-null  float64\n",
      " 44  rougher.output.concentrate_ag                       16778 non-null  float64\n",
      " 45  rougher.output.concentrate_pb                       16778 non-null  float64\n",
      " 46  rougher.output.concentrate_sol                      16698 non-null  float64\n",
      " 47  rougher.output.concentrate_au                       16778 non-null  float64\n",
      " 48  rougher.output.recovery                             14287 non-null  float64\n",
      " 49  rougher.output.tail_ag                              14610 non-null  float64\n",
      " 50  rougher.output.tail_pb                              16778 non-null  float64\n",
      " 51  rougher.output.tail_sol                             14611 non-null  float64\n",
      " 52  rougher.output.tail_au                              14611 non-null  float64\n",
      " 53  rougher.state.floatbank10_a_air                     16807 non-null  float64\n",
      " 54  rougher.state.floatbank10_a_level                   16807 non-null  float64\n",
      " 55  rougher.state.floatbank10_b_air                     16807 non-null  float64\n",
      " 56  rougher.state.floatbank10_b_level                   16807 non-null  float64\n",
      " 57  rougher.state.floatbank10_c_air                     16807 non-null  float64\n",
      " 58  rougher.state.floatbank10_c_level                   16814 non-null  float64\n",
      " 59  rougher.state.floatbank10_d_air                     16802 non-null  float64\n",
      " 60  rougher.state.floatbank10_d_level                   16809 non-null  float64\n",
      " 61  rougher.state.floatbank10_e_air                     16257 non-null  float64\n",
      " 62  rougher.state.floatbank10_e_level                   16809 non-null  float64\n",
      " 63  rougher.state.floatbank10_f_air                     16802 non-null  float64\n",
      " 64  rougher.state.floatbank10_f_level                   16802 non-null  float64\n",
      " 65  secondary_cleaner.output.tail_ag                    16776 non-null  float64\n",
      " 66  secondary_cleaner.output.tail_pb                    16764 non-null  float64\n",
      " 67  secondary_cleaner.output.tail_sol                   14874 non-null  float64\n",
      " 68  secondary_cleaner.output.tail_au                    16778 non-null  float64\n",
      " 69  secondary_cleaner.state.floatbank2_a_air            16497 non-null  float64\n",
      " 70  secondary_cleaner.state.floatbank2_a_level          16751 non-null  float64\n",
      " 71  secondary_cleaner.state.floatbank2_b_air            16705 non-null  float64\n",
      " 72  secondary_cleaner.state.floatbank2_b_level          16748 non-null  float64\n",
      " 73  secondary_cleaner.state.floatbank3_a_air            16763 non-null  float64\n",
      " 74  secondary_cleaner.state.floatbank3_a_level          16747 non-null  float64\n",
      " 75  secondary_cleaner.state.floatbank3_b_air            16752 non-null  float64\n",
      " 76  secondary_cleaner.state.floatbank3_b_level          16750 non-null  float64\n",
      " 77  secondary_cleaner.state.floatbank4_a_air            16731 non-null  float64\n",
      " 78  secondary_cleaner.state.floatbank4_a_level          16747 non-null  float64\n",
      " 79  secondary_cleaner.state.floatbank4_b_air            16768 non-null  float64\n",
      " 80  secondary_cleaner.state.floatbank4_b_level          16767 non-null  float64\n",
      " 81  secondary_cleaner.state.floatbank5_a_air            16775 non-null  float64\n",
      " 82  secondary_cleaner.state.floatbank5_a_level          16775 non-null  float64\n",
      " 83  secondary_cleaner.state.floatbank5_b_air            16775 non-null  float64\n",
      " 84  secondary_cleaner.state.floatbank5_b_level          16776 non-null  float64\n",
      " 85  secondary_cleaner.state.floatbank6_a_air            16757 non-null  float64\n",
      " 86  secondary_cleaner.state.floatbank6_a_level          16775 non-null  float64\n",
      "dtypes: float64(86), object(1)\n",
      "memory usage: 11.2+ MB\n",
      "None\n"
     ]
    }
   ],
   "source": [
    "print(train_df.info())"
   ]
  },
  {
   "cell_type": "code",
   "execution_count": 5,
   "metadata": {},
   "outputs": [
    {
     "name": "stdout",
     "output_type": "stream",
     "text": [
      "date                                            0\n",
      "final.output.concentrate_ag                    72\n",
      "final.output.concentrate_pb                    72\n",
      "final.output.concentrate_sol                  370\n",
      "final.output.concentrate_au                    71\n",
      "                                             ... \n",
      "secondary_cleaner.state.floatbank5_a_level     85\n",
      "secondary_cleaner.state.floatbank5_b_air       85\n",
      "secondary_cleaner.state.floatbank5_b_level     84\n",
      "secondary_cleaner.state.floatbank6_a_air      103\n",
      "secondary_cleaner.state.floatbank6_a_level     85\n",
      "Length: 87, dtype: int64\n"
     ]
    }
   ],
   "source": [
    "print(train_df.isna().sum())"
   ]
  },
  {
   "cell_type": "code",
   "execution_count": 6,
   "metadata": {},
   "outputs": [
    {
     "name": "stdout",
     "output_type": "stream",
     "text": [
      "(16860, 87)\n"
     ]
    }
   ],
   "source": [
    "print(train_df.shape)"
   ]
  },
  {
   "cell_type": "markdown",
   "metadata": {},
   "source": [
    "### Test DF "
   ]
  },
  {
   "cell_type": "code",
   "execution_count": 7,
   "metadata": {},
   "outputs": [
    {
     "name": "stdout",
     "output_type": "stream",
     "text": [
      "                  date  primary_cleaner.input.sulfate  \\\n",
      "0  2016-09-01 00:59:59                     210.800909   \n",
      "1  2016-09-01 01:59:59                     215.392455   \n",
      "2  2016-09-01 02:59:59                     215.259946   \n",
      "3  2016-09-01 03:59:59                     215.336236   \n",
      "4  2016-09-01 04:59:59                     199.099327   \n",
      "\n",
      "   primary_cleaner.input.depressant  primary_cleaner.input.feed_size  \\\n",
      "0                         14.993118                         8.080000   \n",
      "1                         14.987471                         8.080000   \n",
      "2                         12.884934                         7.786667   \n",
      "3                         12.006805                         7.640000   \n",
      "4                         10.682530                         7.530000   \n",
      "\n",
      "   primary_cleaner.input.xanthate  primary_cleaner.state.floatbank8_a_air  \\\n",
      "0                        1.005021                             1398.981301   \n",
      "1                        0.990469                             1398.777912   \n",
      "2                        0.996043                             1398.493666   \n",
      "3                        0.863514                             1399.618111   \n",
      "4                        0.805575                             1401.268123   \n",
      "\n",
      "   primary_cleaner.state.floatbank8_a_level  \\\n",
      "0                               -500.225577   \n",
      "1                               -500.057435   \n",
      "2                               -500.868360   \n",
      "3                               -498.863574   \n",
      "4                               -500.808305   \n",
      "\n",
      "   primary_cleaner.state.floatbank8_b_air  \\\n",
      "0                             1399.144926   \n",
      "1                             1398.055362   \n",
      "2                             1398.860436   \n",
      "3                             1397.440120   \n",
      "4                             1398.128818   \n",
      "\n",
      "   primary_cleaner.state.floatbank8_b_level  \\\n",
      "0                               -499.919735   \n",
      "1                               -499.778182   \n",
      "2                               -499.764529   \n",
      "3                               -499.211024   \n",
      "4                               -499.504543   \n",
      "\n",
      "   primary_cleaner.state.floatbank8_c_air  ...  \\\n",
      "0                             1400.102998  ...   \n",
      "1                             1396.151033  ...   \n",
      "2                             1398.075709  ...   \n",
      "3                             1400.129303  ...   \n",
      "4                             1402.172226  ...   \n",
      "\n",
      "   secondary_cleaner.state.floatbank4_a_air  \\\n",
      "0                                 12.023554   \n",
      "1                                 12.058140   \n",
      "2                                 11.962366   \n",
      "3                                 12.033091   \n",
      "4                                 12.025367   \n",
      "\n",
      "   secondary_cleaner.state.floatbank4_a_level  \\\n",
      "0                                 -497.795834   \n",
      "1                                 -498.695773   \n",
      "2                                 -498.767484   \n",
      "3                                 -498.350935   \n",
      "4                                 -500.786497   \n",
      "\n",
      "   secondary_cleaner.state.floatbank4_b_air  \\\n",
      "0                                  8.016656   \n",
      "1                                  8.130979   \n",
      "2                                  8.096893   \n",
      "3                                  8.074946   \n",
      "4                                  8.054678   \n",
      "\n",
      "   secondary_cleaner.state.floatbank4_b_level  \\\n",
      "0                                 -501.289139   \n",
      "1                                 -499.634209   \n",
      "2                                 -500.827423   \n",
      "3                                 -499.474407   \n",
      "4                                 -500.397500   \n",
      "\n",
      "   secondary_cleaner.state.floatbank5_a_air  \\\n",
      "0                                  7.946562   \n",
      "1                                  7.958270   \n",
      "2                                  8.071056   \n",
      "3                                  7.897085   \n",
      "4                                  8.107890   \n",
      "\n",
      "   secondary_cleaner.state.floatbank5_a_level  \\\n",
      "0                                 -432.317850   \n",
      "1                                 -525.839648   \n",
      "2                                 -500.801673   \n",
      "3                                 -500.868509   \n",
      "4                                 -509.526725   \n",
      "\n",
      "   secondary_cleaner.state.floatbank5_b_air  \\\n",
      "0                                  4.872511   \n",
      "1                                  4.878850   \n",
      "2                                  4.905125   \n",
      "3                                  4.931400   \n",
      "4                                  4.957674   \n",
      "\n",
      "   secondary_cleaner.state.floatbank5_b_level  \\\n",
      "0                                 -500.037437   \n",
      "1                                 -500.162375   \n",
      "2                                 -499.828510   \n",
      "3                                 -499.963623   \n",
      "4                                 -500.360026   \n",
      "\n",
      "   secondary_cleaner.state.floatbank6_a_air  \\\n",
      "0                                 26.705889   \n",
      "1                                 25.019940   \n",
      "2                                 24.994862   \n",
      "3                                 24.948919   \n",
      "4                                 25.003331   \n",
      "\n",
      "   secondary_cleaner.state.floatbank6_a_level  \n",
      "0                                 -499.709414  \n",
      "1                                 -499.819438  \n",
      "2                                 -500.622559  \n",
      "3                                 -498.709987  \n",
      "4                                 -500.856333  \n",
      "\n",
      "[5 rows x 53 columns]\n"
     ]
    }
   ],
   "source": [
    "print(test_df.head())"
   ]
  },
  {
   "cell_type": "code",
   "execution_count": 8,
   "metadata": {},
   "outputs": [
    {
     "name": "stdout",
     "output_type": "stream",
     "text": [
      "<class 'pandas.core.frame.DataFrame'>\n",
      "RangeIndex: 5856 entries, 0 to 5855\n",
      "Data columns (total 53 columns):\n",
      " #   Column                                      Non-Null Count  Dtype  \n",
      "---  ------                                      --------------  -----  \n",
      " 0   date                                        5856 non-null   object \n",
      " 1   primary_cleaner.input.sulfate               5554 non-null   float64\n",
      " 2   primary_cleaner.input.depressant            5572 non-null   float64\n",
      " 3   primary_cleaner.input.feed_size             5856 non-null   float64\n",
      " 4   primary_cleaner.input.xanthate              5690 non-null   float64\n",
      " 5   primary_cleaner.state.floatbank8_a_air      5840 non-null   float64\n",
      " 6   primary_cleaner.state.floatbank8_a_level    5840 non-null   float64\n",
      " 7   primary_cleaner.state.floatbank8_b_air      5840 non-null   float64\n",
      " 8   primary_cleaner.state.floatbank8_b_level    5840 non-null   float64\n",
      " 9   primary_cleaner.state.floatbank8_c_air      5840 non-null   float64\n",
      " 10  primary_cleaner.state.floatbank8_c_level    5840 non-null   float64\n",
      " 11  primary_cleaner.state.floatbank8_d_air      5840 non-null   float64\n",
      " 12  primary_cleaner.state.floatbank8_d_level    5840 non-null   float64\n",
      " 13  rougher.input.feed_ag                       5840 non-null   float64\n",
      " 14  rougher.input.feed_pb                       5840 non-null   float64\n",
      " 15  rougher.input.feed_rate                     5816 non-null   float64\n",
      " 16  rougher.input.feed_size                     5834 non-null   float64\n",
      " 17  rougher.input.feed_sol                      5789 non-null   float64\n",
      " 18  rougher.input.feed_au                       5840 non-null   float64\n",
      " 19  rougher.input.floatbank10_sulfate           5599 non-null   float64\n",
      " 20  rougher.input.floatbank10_xanthate          5733 non-null   float64\n",
      " 21  rougher.input.floatbank11_sulfate           5801 non-null   float64\n",
      " 22  rougher.input.floatbank11_xanthate          5503 non-null   float64\n",
      " 23  rougher.state.floatbank10_a_air             5839 non-null   float64\n",
      " 24  rougher.state.floatbank10_a_level           5840 non-null   float64\n",
      " 25  rougher.state.floatbank10_b_air             5839 non-null   float64\n",
      " 26  rougher.state.floatbank10_b_level           5840 non-null   float64\n",
      " 27  rougher.state.floatbank10_c_air             5839 non-null   float64\n",
      " 28  rougher.state.floatbank10_c_level           5840 non-null   float64\n",
      " 29  rougher.state.floatbank10_d_air             5839 non-null   float64\n",
      " 30  rougher.state.floatbank10_d_level           5840 non-null   float64\n",
      " 31  rougher.state.floatbank10_e_air             5839 non-null   float64\n",
      " 32  rougher.state.floatbank10_e_level           5840 non-null   float64\n",
      " 33  rougher.state.floatbank10_f_air             5839 non-null   float64\n",
      " 34  rougher.state.floatbank10_f_level           5840 non-null   float64\n",
      " 35  secondary_cleaner.state.floatbank2_a_air    5836 non-null   float64\n",
      " 36  secondary_cleaner.state.floatbank2_a_level  5840 non-null   float64\n",
      " 37  secondary_cleaner.state.floatbank2_b_air    5833 non-null   float64\n",
      " 38  secondary_cleaner.state.floatbank2_b_level  5840 non-null   float64\n",
      " 39  secondary_cleaner.state.floatbank3_a_air    5822 non-null   float64\n",
      " 40  secondary_cleaner.state.floatbank3_a_level  5840 non-null   float64\n",
      " 41  secondary_cleaner.state.floatbank3_b_air    5840 non-null   float64\n",
      " 42  secondary_cleaner.state.floatbank3_b_level  5840 non-null   float64\n",
      " 43  secondary_cleaner.state.floatbank4_a_air    5840 non-null   float64\n",
      " 44  secondary_cleaner.state.floatbank4_a_level  5840 non-null   float64\n",
      " 45  secondary_cleaner.state.floatbank4_b_air    5840 non-null   float64\n",
      " 46  secondary_cleaner.state.floatbank4_b_level  5840 non-null   float64\n",
      " 47  secondary_cleaner.state.floatbank5_a_air    5840 non-null   float64\n",
      " 48  secondary_cleaner.state.floatbank5_a_level  5840 non-null   float64\n",
      " 49  secondary_cleaner.state.floatbank5_b_air    5840 non-null   float64\n",
      " 50  secondary_cleaner.state.floatbank5_b_level  5840 non-null   float64\n",
      " 51  secondary_cleaner.state.floatbank6_a_air    5840 non-null   float64\n",
      " 52  secondary_cleaner.state.floatbank6_a_level  5840 non-null   float64\n",
      "dtypes: float64(52), object(1)\n",
      "memory usage: 2.4+ MB\n",
      "None\n"
     ]
    }
   ],
   "source": [
    "\n",
    "print(test_df.info())"
   ]
  },
  {
   "cell_type": "code",
   "execution_count": 9,
   "metadata": {},
   "outputs": [
    {
     "name": "stdout",
     "output_type": "stream",
     "text": [
      "date                                            0\n",
      "primary_cleaner.input.sulfate                 302\n",
      "primary_cleaner.input.depressant              284\n",
      "primary_cleaner.input.feed_size                 0\n",
      "primary_cleaner.input.xanthate                166\n",
      "primary_cleaner.state.floatbank8_a_air         16\n",
      "primary_cleaner.state.floatbank8_a_level       16\n",
      "primary_cleaner.state.floatbank8_b_air         16\n",
      "primary_cleaner.state.floatbank8_b_level       16\n",
      "primary_cleaner.state.floatbank8_c_air         16\n",
      "primary_cleaner.state.floatbank8_c_level       16\n",
      "primary_cleaner.state.floatbank8_d_air         16\n",
      "primary_cleaner.state.floatbank8_d_level       16\n",
      "rougher.input.feed_ag                          16\n",
      "rougher.input.feed_pb                          16\n",
      "rougher.input.feed_rate                        40\n",
      "rougher.input.feed_size                        22\n",
      "rougher.input.feed_sol                         67\n",
      "rougher.input.feed_au                          16\n",
      "rougher.input.floatbank10_sulfate             257\n",
      "rougher.input.floatbank10_xanthate            123\n",
      "rougher.input.floatbank11_sulfate              55\n",
      "rougher.input.floatbank11_xanthate            353\n",
      "rougher.state.floatbank10_a_air                17\n",
      "rougher.state.floatbank10_a_level              16\n",
      "rougher.state.floatbank10_b_air                17\n",
      "rougher.state.floatbank10_b_level              16\n",
      "rougher.state.floatbank10_c_air                17\n",
      "rougher.state.floatbank10_c_level              16\n",
      "rougher.state.floatbank10_d_air                17\n",
      "rougher.state.floatbank10_d_level              16\n",
      "rougher.state.floatbank10_e_air                17\n",
      "rougher.state.floatbank10_e_level              16\n",
      "rougher.state.floatbank10_f_air                17\n",
      "rougher.state.floatbank10_f_level              16\n",
      "secondary_cleaner.state.floatbank2_a_air       20\n",
      "secondary_cleaner.state.floatbank2_a_level     16\n",
      "secondary_cleaner.state.floatbank2_b_air       23\n",
      "secondary_cleaner.state.floatbank2_b_level     16\n",
      "secondary_cleaner.state.floatbank3_a_air       34\n",
      "secondary_cleaner.state.floatbank3_a_level     16\n",
      "secondary_cleaner.state.floatbank3_b_air       16\n",
      "secondary_cleaner.state.floatbank3_b_level     16\n",
      "secondary_cleaner.state.floatbank4_a_air       16\n",
      "secondary_cleaner.state.floatbank4_a_level     16\n",
      "secondary_cleaner.state.floatbank4_b_air       16\n",
      "secondary_cleaner.state.floatbank4_b_level     16\n",
      "secondary_cleaner.state.floatbank5_a_air       16\n",
      "secondary_cleaner.state.floatbank5_a_level     16\n",
      "secondary_cleaner.state.floatbank5_b_air       16\n",
      "secondary_cleaner.state.floatbank5_b_level     16\n",
      "secondary_cleaner.state.floatbank6_a_air       16\n",
      "secondary_cleaner.state.floatbank6_a_level     16\n",
      "dtype: int64\n"
     ]
    }
   ],
   "source": [
    "print(test_df.isna().sum())"
   ]
  },
  {
   "cell_type": "code",
   "execution_count": 10,
   "metadata": {},
   "outputs": [
    {
     "name": "stdout",
     "output_type": "stream",
     "text": [
      "(5856, 53)\n"
     ]
    }
   ],
   "source": [
    "print(test_df.shape)"
   ]
  },
  {
   "cell_type": "markdown",
   "metadata": {},
   "source": [
    "### Full DF"
   ]
  },
  {
   "cell_type": "code",
   "execution_count": 11,
   "metadata": {},
   "outputs": [
    {
     "name": "stdout",
     "output_type": "stream",
     "text": [
      "                  date  final.output.concentrate_ag  \\\n",
      "0  2016-01-15 00:00:00                     6.055403   \n",
      "1  2016-01-15 01:00:00                     6.029369   \n",
      "2  2016-01-15 02:00:00                     6.055926   \n",
      "3  2016-01-15 03:00:00                     6.047977   \n",
      "4  2016-01-15 04:00:00                     6.148599   \n",
      "\n",
      "   final.output.concentrate_pb  final.output.concentrate_sol  \\\n",
      "0                     9.889648                      5.507324   \n",
      "1                     9.968944                      5.257781   \n",
      "2                    10.213995                      5.383759   \n",
      "3                     9.977019                      4.858634   \n",
      "4                    10.142511                      4.939416   \n",
      "\n",
      "   final.output.concentrate_au  final.output.recovery  final.output.tail_ag  \\\n",
      "0                    42.192020              70.541216             10.411962   \n",
      "1                    42.701629              69.266198             10.462676   \n",
      "2                    42.657501              68.116445             10.507046   \n",
      "3                    42.689819              68.347543             10.422762   \n",
      "4                    42.774141              66.927016             10.360302   \n",
      "\n",
      "   final.output.tail_pb  final.output.tail_sol  final.output.tail_au  ...  \\\n",
      "0              0.895447              16.904297              2.143149  ...   \n",
      "1              0.927452              16.634514              2.224930  ...   \n",
      "2              0.953716              16.208849              2.257889  ...   \n",
      "3              0.883763              16.532835              2.146849  ...   \n",
      "4              0.792826              16.525686              2.055292  ...   \n",
      "\n",
      "   secondary_cleaner.state.floatbank4_a_air  \\\n",
      "0                                 14.016835   \n",
      "1                                 13.992281   \n",
      "2                                 14.015015   \n",
      "3                                 14.036510   \n",
      "4                                 14.027298   \n",
      "\n",
      "   secondary_cleaner.state.floatbank4_a_level  \\\n",
      "0                                 -502.488007   \n",
      "1                                 -505.503262   \n",
      "2                                 -502.520901   \n",
      "3                                 -500.857308   \n",
      "4                                 -499.838632   \n",
      "\n",
      "   secondary_cleaner.state.floatbank4_b_air  \\\n",
      "0                                 12.099931   \n",
      "1                                 11.950531   \n",
      "2                                 11.912783   \n",
      "3                                 11.999550   \n",
      "4                                 11.953070   \n",
      "\n",
      "   secondary_cleaner.state.floatbank4_b_level  \\\n",
      "0                                 -504.715942   \n",
      "1                                 -501.331529   \n",
      "2                                 -501.133383   \n",
      "3                                 -501.193686   \n",
      "4                                 -501.053894   \n",
      "\n",
      "   secondary_cleaner.state.floatbank5_a_air  \\\n",
      "0                                  9.925633   \n",
      "1                                 10.039245   \n",
      "2                                 10.070913   \n",
      "3                                  9.970366   \n",
      "4                                  9.925709   \n",
      "\n",
      "   secondary_cleaner.state.floatbank5_a_level  \\\n",
      "0                                 -498.310211   \n",
      "1                                 -500.169983   \n",
      "2                                 -500.129135   \n",
      "3                                 -499.201640   \n",
      "4                                 -501.686727   \n",
      "\n",
      "   secondary_cleaner.state.floatbank5_b_air  \\\n",
      "0                                  8.079666   \n",
      "1                                  7.984757   \n",
      "2                                  8.013877   \n",
      "3                                  7.977324   \n",
      "4                                  7.894242   \n",
      "\n",
      "   secondary_cleaner.state.floatbank5_b_level  \\\n",
      "0                                 -500.470978   \n",
      "1                                 -500.582168   \n",
      "2                                 -500.517572   \n",
      "3                                 -500.255908   \n",
      "4                                 -500.356035   \n",
      "\n",
      "   secondary_cleaner.state.floatbank6_a_air  \\\n",
      "0                                 14.151341   \n",
      "1                                 13.998353   \n",
      "2                                 14.028663   \n",
      "3                                 14.005551   \n",
      "4                                 13.996647   \n",
      "\n",
      "   secondary_cleaner.state.floatbank6_a_level  \n",
      "0                                 -605.841980  \n",
      "1                                 -599.787184  \n",
      "2                                 -601.427363  \n",
      "3                                 -599.996129  \n",
      "4                                 -601.496691  \n",
      "\n",
      "[5 rows x 87 columns]\n"
     ]
    }
   ],
   "source": [
    "print(full_df.head())"
   ]
  },
  {
   "cell_type": "code",
   "execution_count": 12,
   "metadata": {},
   "outputs": [
    {
     "name": "stdout",
     "output_type": "stream",
     "text": [
      "<class 'pandas.core.frame.DataFrame'>\n",
      "RangeIndex: 22716 entries, 0 to 22715\n",
      "Data columns (total 87 columns):\n",
      " #   Column                                              Non-Null Count  Dtype  \n",
      "---  ------                                              --------------  -----  \n",
      " 0   date                                                22716 non-null  object \n",
      " 1   final.output.concentrate_ag                         22627 non-null  float64\n",
      " 2   final.output.concentrate_pb                         22629 non-null  float64\n",
      " 3   final.output.concentrate_sol                        22331 non-null  float64\n",
      " 4   final.output.concentrate_au                         22630 non-null  float64\n",
      " 5   final.output.recovery                               20753 non-null  float64\n",
      " 6   final.output.tail_ag                                22633 non-null  float64\n",
      " 7   final.output.tail_pb                                22516 non-null  float64\n",
      " 8   final.output.tail_sol                               22445 non-null  float64\n",
      " 9   final.output.tail_au                                22635 non-null  float64\n",
      " 10  primary_cleaner.input.sulfate                       21107 non-null  float64\n",
      " 11  primary_cleaner.input.depressant                    21170 non-null  float64\n",
      " 12  primary_cleaner.input.feed_size                     22716 non-null  float64\n",
      " 13  primary_cleaner.input.xanthate                      21565 non-null  float64\n",
      " 14  primary_cleaner.output.concentrate_ag               22618 non-null  float64\n",
      " 15  primary_cleaner.output.concentrate_pb               22268 non-null  float64\n",
      " 16  primary_cleaner.output.concentrate_sol              21918 non-null  float64\n",
      " 17  primary_cleaner.output.concentrate_au               22618 non-null  float64\n",
      " 18  primary_cleaner.output.tail_ag                      22614 non-null  float64\n",
      " 19  primary_cleaner.output.tail_pb                      22594 non-null  float64\n",
      " 20  primary_cleaner.output.tail_sol                     22365 non-null  float64\n",
      " 21  primary_cleaner.output.tail_au                      22617 non-null  float64\n",
      " 22  primary_cleaner.state.floatbank8_a_air              22660 non-null  float64\n",
      " 23  primary_cleaner.state.floatbank8_a_level            22667 non-null  float64\n",
      " 24  primary_cleaner.state.floatbank8_b_air              22660 non-null  float64\n",
      " 25  primary_cleaner.state.floatbank8_b_level            22673 non-null  float64\n",
      " 26  primary_cleaner.state.floatbank8_c_air              22662 non-null  float64\n",
      " 27  primary_cleaner.state.floatbank8_c_level            22673 non-null  float64\n",
      " 28  primary_cleaner.state.floatbank8_d_air              22661 non-null  float64\n",
      " 29  primary_cleaner.state.floatbank8_d_level            22673 non-null  float64\n",
      " 30  rougher.calculation.sulfate_to_au_concentrate       22672 non-null  float64\n",
      " 31  rougher.calculation.floatbank10_sulfate_to_au_feed  22672 non-null  float64\n",
      " 32  rougher.calculation.floatbank11_sulfate_to_au_feed  22672 non-null  float64\n",
      " 33  rougher.calculation.au_pb_ratio                     21089 non-null  float64\n",
      " 34  rougher.input.feed_ag                               22618 non-null  float64\n",
      " 35  rougher.input.feed_pb                               22472 non-null  float64\n",
      " 36  rougher.input.feed_rate                             22163 non-null  float64\n",
      " 37  rougher.input.feed_size                             22277 non-null  float64\n",
      " 38  rougher.input.feed_sol                              22357 non-null  float64\n",
      " 39  rougher.input.feed_au                               22617 non-null  float64\n",
      " 40  rougher.input.floatbank10_sulfate                   21415 non-null  float64\n",
      " 41  rougher.input.floatbank10_xanthate                  22247 non-null  float64\n",
      " 42  rougher.input.floatbank11_sulfate                   22038 non-null  float64\n",
      " 43  rougher.input.floatbank11_xanthate                  20459 non-null  float64\n",
      " 44  rougher.output.concentrate_ag                       22618 non-null  float64\n",
      " 45  rougher.output.concentrate_pb                       22618 non-null  float64\n",
      " 46  rougher.output.concentrate_sol                      22526 non-null  float64\n",
      " 47  rougher.output.concentrate_au                       22618 non-null  float64\n",
      " 48  rougher.output.recovery                             19597 non-null  float64\n",
      " 49  rougher.output.tail_ag                              19979 non-null  float64\n",
      " 50  rougher.output.tail_pb                              22618 non-null  float64\n",
      " 51  rougher.output.tail_sol                             19980 non-null  float64\n",
      " 52  rougher.output.tail_au                              19980 non-null  float64\n",
      " 53  rougher.state.floatbank10_a_air                     22646 non-null  float64\n",
      " 54  rougher.state.floatbank10_a_level                   22647 non-null  float64\n",
      " 55  rougher.state.floatbank10_b_air                     22646 non-null  float64\n",
      " 56  rougher.state.floatbank10_b_level                   22647 non-null  float64\n",
      " 57  rougher.state.floatbank10_c_air                     22646 non-null  float64\n",
      " 58  rougher.state.floatbank10_c_level                   22654 non-null  float64\n",
      " 59  rougher.state.floatbank10_d_air                     22641 non-null  float64\n",
      " 60  rougher.state.floatbank10_d_level                   22649 non-null  float64\n",
      " 61  rougher.state.floatbank10_e_air                     22096 non-null  float64\n",
      " 62  rougher.state.floatbank10_e_level                   22649 non-null  float64\n",
      " 63  rougher.state.floatbank10_f_air                     22641 non-null  float64\n",
      " 64  rougher.state.floatbank10_f_level                   22642 non-null  float64\n",
      " 65  secondary_cleaner.output.tail_ag                    22616 non-null  float64\n",
      " 66  secondary_cleaner.output.tail_pb                    22600 non-null  float64\n",
      " 67  secondary_cleaner.output.tail_sol                   20501 non-null  float64\n",
      " 68  secondary_cleaner.output.tail_au                    22618 non-null  float64\n",
      " 69  secondary_cleaner.state.floatbank2_a_air            22333 non-null  float64\n",
      " 70  secondary_cleaner.state.floatbank2_a_level          22591 non-null  float64\n",
      " 71  secondary_cleaner.state.floatbank2_b_air            22538 non-null  float64\n",
      " 72  secondary_cleaner.state.floatbank2_b_level          22588 non-null  float64\n",
      " 73  secondary_cleaner.state.floatbank3_a_air            22585 non-null  float64\n",
      " 74  secondary_cleaner.state.floatbank3_a_level          22587 non-null  float64\n",
      " 75  secondary_cleaner.state.floatbank3_b_air            22592 non-null  float64\n",
      " 76  secondary_cleaner.state.floatbank3_b_level          22590 non-null  float64\n",
      " 77  secondary_cleaner.state.floatbank4_a_air            22571 non-null  float64\n",
      " 78  secondary_cleaner.state.floatbank4_a_level          22587 non-null  float64\n",
      " 79  secondary_cleaner.state.floatbank4_b_air            22608 non-null  float64\n",
      " 80  secondary_cleaner.state.floatbank4_b_level          22607 non-null  float64\n",
      " 81  secondary_cleaner.state.floatbank5_a_air            22615 non-null  float64\n",
      " 82  secondary_cleaner.state.floatbank5_a_level          22615 non-null  float64\n",
      " 83  secondary_cleaner.state.floatbank5_b_air            22615 non-null  float64\n",
      " 84  secondary_cleaner.state.floatbank5_b_level          22616 non-null  float64\n",
      " 85  secondary_cleaner.state.floatbank6_a_air            22597 non-null  float64\n",
      " 86  secondary_cleaner.state.floatbank6_a_level          22615 non-null  float64\n",
      "dtypes: float64(86), object(1)\n",
      "memory usage: 15.1+ MB\n",
      "None\n"
     ]
    }
   ],
   "source": [
    "print(full_df.info())"
   ]
  },
  {
   "cell_type": "code",
   "execution_count": 13,
   "metadata": {},
   "outputs": [
    {
     "name": "stdout",
     "output_type": "stream",
     "text": [
      "date                                            0\n",
      "final.output.concentrate_ag                    89\n",
      "final.output.concentrate_pb                    87\n",
      "final.output.concentrate_sol                  385\n",
      "final.output.concentrate_au                    86\n",
      "                                             ... \n",
      "secondary_cleaner.state.floatbank5_a_level    101\n",
      "secondary_cleaner.state.floatbank5_b_air      101\n",
      "secondary_cleaner.state.floatbank5_b_level    100\n",
      "secondary_cleaner.state.floatbank6_a_air      119\n",
      "secondary_cleaner.state.floatbank6_a_level    101\n",
      "Length: 87, dtype: int64\n"
     ]
    }
   ],
   "source": [
    "print(full_df.isna().sum())"
   ]
  },
  {
   "cell_type": "code",
   "execution_count": 14,
   "metadata": {},
   "outputs": [
    {
     "name": "stdout",
     "output_type": "stream",
     "text": [
      "(22716, 87)\n"
     ]
    }
   ],
   "source": [
    "print(full_df.shape)"
   ]
  },
  {
   "cell_type": "markdown",
   "metadata": {},
   "source": [
    "### Function for missing values "
   ]
  },
  {
   "cell_type": "code",
   "execution_count": 15,
   "metadata": {},
   "outputs": [
    {
     "name": "stdout",
     "output_type": "stream",
     "text": [
      "Missing values % in training dataset:\n",
      " date                                          0.000000\n",
      "final.output.concentrate_ag                   0.004909\n",
      "final.output.concentrate_pb                   0.004909\n",
      "final.output.concentrate_sol                  0.025225\n",
      "final.output.concentrate_au                   0.004840\n",
      "                                                ...   \n",
      "secondary_cleaner.state.floatbank5_a_level    0.005795\n",
      "secondary_cleaner.state.floatbank5_b_air      0.005795\n",
      "secondary_cleaner.state.floatbank5_b_level    0.005727\n",
      "secondary_cleaner.state.floatbank6_a_air      0.007022\n",
      "secondary_cleaner.state.floatbank6_a_level    0.005795\n",
      "Length: 87, dtype: float64\n",
      "\n",
      "Missing values % in test dataset:\n",
      " date                                          0.000000\n",
      "primary_cleaner.input.sulfate                 0.097304\n",
      "primary_cleaner.input.depressant              0.091504\n",
      "primary_cleaner.input.feed_size               0.000000\n",
      "primary_cleaner.input.xanthate                0.053485\n",
      "primary_cleaner.state.floatbank8_a_air        0.005155\n",
      "primary_cleaner.state.floatbank8_a_level      0.005155\n",
      "primary_cleaner.state.floatbank8_b_air        0.005155\n",
      "primary_cleaner.state.floatbank8_b_level      0.005155\n",
      "primary_cleaner.state.floatbank8_c_air        0.005155\n",
      "primary_cleaner.state.floatbank8_c_level      0.005155\n",
      "primary_cleaner.state.floatbank8_d_air        0.005155\n",
      "primary_cleaner.state.floatbank8_d_level      0.005155\n",
      "rougher.input.feed_ag                         0.005155\n",
      "rougher.input.feed_pb                         0.005155\n",
      "rougher.input.feed_rate                       0.012888\n",
      "rougher.input.feed_size                       0.007088\n",
      "rougher.input.feed_sol                        0.021587\n",
      "rougher.input.feed_au                         0.005155\n",
      "rougher.input.floatbank10_sulfate             0.082805\n",
      "rougher.input.floatbank10_xanthate            0.039630\n",
      "rougher.input.floatbank11_sulfate             0.017721\n",
      "rougher.input.floatbank11_xanthate            0.113736\n",
      "rougher.state.floatbank10_a_air               0.005477\n",
      "rougher.state.floatbank10_a_level             0.005155\n",
      "rougher.state.floatbank10_b_air               0.005477\n",
      "rougher.state.floatbank10_b_level             0.005155\n",
      "rougher.state.floatbank10_c_air               0.005477\n",
      "rougher.state.floatbank10_c_level             0.005155\n",
      "rougher.state.floatbank10_d_air               0.005477\n",
      "rougher.state.floatbank10_d_level             0.005155\n",
      "rougher.state.floatbank10_e_air               0.005477\n",
      "rougher.state.floatbank10_e_level             0.005155\n",
      "rougher.state.floatbank10_f_air               0.005477\n",
      "rougher.state.floatbank10_f_level             0.005155\n",
      "secondary_cleaner.state.floatbank2_a_air      0.006444\n",
      "secondary_cleaner.state.floatbank2_a_level    0.005155\n",
      "secondary_cleaner.state.floatbank2_b_air      0.007411\n",
      "secondary_cleaner.state.floatbank2_b_level    0.005155\n",
      "secondary_cleaner.state.floatbank3_a_air      0.010955\n",
      "secondary_cleaner.state.floatbank3_a_level    0.005155\n",
      "secondary_cleaner.state.floatbank3_b_air      0.005155\n",
      "secondary_cleaner.state.floatbank3_b_level    0.005155\n",
      "secondary_cleaner.state.floatbank4_a_air      0.005155\n",
      "secondary_cleaner.state.floatbank4_a_level    0.005155\n",
      "secondary_cleaner.state.floatbank4_b_air      0.005155\n",
      "secondary_cleaner.state.floatbank4_b_level    0.005155\n",
      "secondary_cleaner.state.floatbank5_a_air      0.005155\n",
      "secondary_cleaner.state.floatbank5_a_level    0.005155\n",
      "secondary_cleaner.state.floatbank5_b_air      0.005155\n",
      "secondary_cleaner.state.floatbank5_b_level    0.005155\n",
      "secondary_cleaner.state.floatbank6_a_air      0.005155\n",
      "secondary_cleaner.state.floatbank6_a_level    0.005155\n",
      "dtype: float64\n",
      "\n",
      "Missing values % in full dataset:\n",
      " date                                          0.000000\n",
      "final.output.concentrate_ag                   0.004503\n",
      "final.output.concentrate_pb                   0.004402\n",
      "final.output.concentrate_sol                  0.019481\n",
      "final.output.concentrate_au                   0.004352\n",
      "                                                ...   \n",
      "secondary_cleaner.state.floatbank5_a_level    0.005111\n",
      "secondary_cleaner.state.floatbank5_b_air      0.005111\n",
      "secondary_cleaner.state.floatbank5_b_level    0.005060\n",
      "secondary_cleaner.state.floatbank6_a_air      0.006021\n",
      "secondary_cleaner.state.floatbank6_a_level    0.005111\n",
      "Length: 87, dtype: float64\n"
     ]
    },
    {
     "name": "stderr",
     "output_type": "stream",
     "text": [
      "C:\\Users\\Somil Patel\\AppData\\Local\\Temp\\ipykernel_7708\\2285714423.py:8: DeprecationWarning: `product` is deprecated as of NumPy 1.25.0, and will be removed in NumPy 2.0. Please use `prod` instead.\n",
      "  missing_train = missing_values(train_df)\n",
      "C:\\Users\\Somil Patel\\AppData\\Local\\Temp\\ipykernel_7708\\2285714423.py:9: DeprecationWarning: `product` is deprecated as of NumPy 1.25.0, and will be removed in NumPy 2.0. Please use `prod` instead.\n",
      "  missing_test = missing_values(test_df)\n",
      "C:\\Users\\Somil Patel\\AppData\\Local\\Temp\\ipykernel_7708\\2285714423.py:10: DeprecationWarning: `product` is deprecated as of NumPy 1.25.0, and will be removed in NumPy 2.0. Please use `prod` instead.\n",
      "  missing_full = missing_values(full_df)\n"
     ]
    }
   ],
   "source": [
    "\n",
    "def missing_values(df):\n",
    "    missing = df.isnull().sum()\n",
    "    total = np.product(df.shape)\n",
    "    missing_percent = (missing / total) * 100\n",
    "    return missing_percent\n",
    "\n",
    "\n",
    "missing_train = missing_values(train_df)\n",
    "missing_test = missing_values(test_df)\n",
    "missing_full = missing_values(full_df)\n",
    "\n",
    "\n",
    "print(\"Missing values % in training dataset:\\n\", missing_train)\n",
    "print(\"\\nMissing values % in test dataset:\\n\", missing_test)\n",
    "print(\"\\nMissing values % in full dataset:\\n\", missing_full)"
   ]
  },
  {
   "cell_type": "markdown",
   "metadata": {},
   "source": [
    "I calculated missing values percentage for each dataset by writing a function to find missing values percentage for each dataset and printed the results. The amounts of missing data are all less than 1% of the data."
   ]
  },
  {
   "cell_type": "markdown",
   "metadata": {},
   "source": [
    "### Check that recovery is calculated correctly. "
   ]
  },
  {
   "cell_type": "markdown",
   "metadata": {},
   "source": [
    "Cleaned the dataset by dropping missing values for the calculation. Formula for recovery: (C * (F - T)) / (F * (C - T)) * 100. Used the necessary columns for the recovery calculation and calculated the recovery. I then found the Mean Absolute Error (MAE) between the calculated recovery and the actual 'rougher.output.recovery' feature value.\n"
   ]
  },
  {
   "cell_type": "code",
   "execution_count": 16,
   "metadata": {},
   "outputs": [
    {
     "name": "stdout",
     "output_type": "stream",
     "text": [
      "MAE: 9.303415616264301e-15\n"
     ]
    }
   ],
   "source": [
    "train_cleaned = train_df.dropna(subset=['rougher.output.concentrate_au', 'rougher.input.feed_au', 'rougher.output.tail_au', 'rougher.output.recovery'])\n",
    "C = train_cleaned['rougher.output.concentrate_au']\n",
    "F = train_cleaned['rougher.input.feed_au']\n",
    "T = train_cleaned['rougher.output.tail_au']\n",
    "\n",
    "calculated_recovery = (C * (F - T)) / (F * (C - T)) * 100\n",
    "\n",
    "actual_recovery = train_cleaned['rougher.output.recovery']\n",
    "mae_recovery = mean_absolute_error(actual_recovery, calculated_recovery)\n",
    "\n",
    "print('MAE:', mae_recovery)"
   ]
  },
  {
   "cell_type": "markdown",
   "metadata": {},
   "source": [
    "### Analyze the features not available in the test set"
   ]
  },
  {
   "cell_type": "markdown",
   "metadata": {},
   "source": [
    "I identified features that are in the training set but not in the test set and displayed the missing feature and their data types. All the datatypes are float64.\n"
   ]
  },
  {
   "cell_type": "code",
   "execution_count": 17,
   "metadata": {},
   "outputs": [
    {
     "data": {
      "text/plain": [
       "final.output.concentrate_au                           float64\n",
       "rougher.calculation.au_pb_ratio                       float64\n",
       "primary_cleaner.output.concentrate_au                 float64\n",
       "final.output.concentrate_pb                           float64\n",
       "rougher.calculation.sulfate_to_au_concentrate         float64\n",
       "rougher.calculation.floatbank10_sulfate_to_au_feed    float64\n",
       "rougher.output.recovery                               float64\n",
       "primary_cleaner.output.tail_au                        float64\n",
       "final.output.tail_sol                                 float64\n",
       "rougher.output.concentrate_ag                         float64\n",
       "final.output.concentrate_sol                          float64\n",
       "primary_cleaner.output.tail_pb                        float64\n",
       "final.output.recovery                                 float64\n",
       "primary_cleaner.output.concentrate_sol                float64\n",
       "primary_cleaner.output.concentrate_pb                 float64\n",
       "primary_cleaner.output.tail_sol                       float64\n",
       "secondary_cleaner.output.tail_pb                      float64\n",
       "final.output.tail_au                                  float64\n",
       "rougher.output.concentrate_au                         float64\n",
       "rougher.output.tail_au                                float64\n",
       "final.output.concentrate_ag                           float64\n",
       "secondary_cleaner.output.tail_ag                      float64\n",
       "primary_cleaner.output.concentrate_ag                 float64\n",
       "rougher.output.tail_pb                                float64\n",
       "rougher.calculation.floatbank11_sulfate_to_au_feed    float64\n",
       "primary_cleaner.output.tail_ag                        float64\n",
       "rougher.output.concentrate_pb                         float64\n",
       "rougher.output.concentrate_sol                        float64\n",
       "final.output.tail_pb                                  float64\n",
       "secondary_cleaner.output.tail_sol                     float64\n",
       "final.output.tail_ag                                  float64\n",
       "rougher.output.tail_sol                               float64\n",
       "rougher.output.tail_ag                                float64\n",
       "secondary_cleaner.output.tail_au                      float64\n",
       "dtype: object"
      ]
     },
     "execution_count": 17,
     "metadata": {},
     "output_type": "execute_result"
    }
   ],
   "source": [
    "missing_features_test = set(train_df.columns) - set(test_df.columns)\n",
    "missing_features = train_df[list(missing_features_test)].dtypes\n",
    "missing_features"
   ]
  },
  {
   "cell_type": "markdown",
   "metadata": {},
   "source": [
    "### Perform data preprocessing"
   ]
  },
  {
   "cell_type": "markdown",
   "metadata": {},
   "source": [
    "Filling in missing data in train and test datasets. For catagorical comumns I filled it with the mode and numerical columns with the median value. I then converted all numeric comumnns to float32 type in both datasets."
   ]
  },
  {
   "cell_type": "code",
   "execution_count": 19,
   "metadata": {},
   "outputs": [],
   "source": [
    "for col in train_df.columns:\n",
    "    if train_df[col].dtype == 'object':\n",
    "        train_df[col] = train_df[col].fillna(train_df[col].mode()[0])\n",
    "    else:\n",
    "        train_df[col] = train_df[col].fillna(train_df[col].mean())\n",
    "\n",
    "for col in test_df.columns:\n",
    "    if test_df[col].dtype == 'object':\n",
    "        test_df[col] = test_df[col].fillna(test_df[col].mode()[0])\n",
    "    else:\n",
    "        test_df[col] = test_df[col].fillna(test_df[col].mean())\n",
    "\n",
    "for col in train_df.columns:\n",
    "    if train_df[col].dtype in ['float64', 'int64']:\n",
    "        train_df[col]= train_df[col].astype('float32')\n",
    "\n",
    "for col in test_df.columns:\n",
    "    if test_df[col].dtype in ['float64', 'int64']:\n",
    "        test_df[col]= test_df[col].astype('float32')\n",
    "\n",
    "train_df['date'] = pd.to_datetime(train_df['date'])"
   ]
  },
  {
   "cell_type": "code",
   "execution_count": 21,
   "metadata": {},
   "outputs": [
    {
     "ename": "TypeError",
     "evalue": "'<=' not supported between instances of 'str' and 'float'",
     "output_type": "error",
     "traceback": [
      "\u001b[1;31m---------------------------------------------------------------------------\u001b[0m",
      "\u001b[1;31mTypeError\u001b[0m                                 Traceback (most recent call last)",
      "Cell \u001b[1;32mIn[21], line 13\u001b[0m\n\u001b[0;32m      5\u001b[0m variables_to_check \u001b[38;5;241m=\u001b[39m [\n\u001b[0;32m      6\u001b[0m     \u001b[38;5;124m'\u001b[39m\u001b[38;5;124mtotal_concentration_feed_au\u001b[39m\u001b[38;5;124m'\u001b[39m,\n\u001b[0;32m      7\u001b[0m     \u001b[38;5;124m'\u001b[39m\u001b[38;5;124mtotal_concentration_rougher_au\u001b[39m\u001b[38;5;124m'\u001b[39m,\n\u001b[0;32m      8\u001b[0m     \u001b[38;5;124m'\u001b[39m\u001b[38;5;124mprimary_cleaner_concentration_au\u001b[39m\u001b[38;5;124m'\u001b[39m,\n\u001b[0;32m      9\u001b[0m     \u001b[38;5;124m'\u001b[39m\u001b[38;5;124mtotal_concentration_final_au\u001b[39m\u001b[38;5;124m'\u001b[39m\n\u001b[0;32m     10\u001b[0m ]\n\u001b[0;32m     12\u001b[0m \u001b[38;5;28;01mfor\u001b[39;00m var \u001b[38;5;129;01min\u001b[39;00m variables_to_check:\n\u001b[1;32m---> 13\u001b[0m     \u001b[43mvar\u001b[49m\u001b[43m \u001b[49m\u001b[38;5;241;43m<\u001b[39;49m\u001b[38;5;241;43m=\u001b[39;49m\u001b[43m \u001b[49m\u001b[43mthreshold\u001b[49m\n",
      "\u001b[1;31mTypeError\u001b[0m: '<=' not supported between instances of 'str' and 'float'"
     ]
    }
   ],
   "source": [
    "# Set a threshold for near-zero concentration\n",
    "threshold = 0.1\n",
    "\n",
    "# Identify rows with near-zero total concentrations\n",
    "variables_to_check = [\n",
    "    'total_concentration_feed_au',\n",
    "    'total_concentration_rougher_au',\n",
    "    'primary_cleaner_concentration_au',\n",
    "    'total_concentration_final_au'\n",
    "]\n",
    "\n",
    "for var in variables_to_check:\n",
    "    var <= threshold\n",
    "    \n"
   ]
  },
  {
   "cell_type": "markdown",
   "metadata": {},
   "source": [
    "## Analyze the data"
   ]
  },
  {
   "cell_type": "markdown",
   "metadata": {},
   "source": [
    "### Concentrations of metals (_Au, Ag, Pb_)"
   ]
  },
  {
   "cell_type": "markdown",
   "metadata": {},
   "source": [
    "Used a loop to calculate the mean concentrations of gold(AU), silver(AG), and lead(PB) during diffrent stanges of the purification process. Starting off with raw feed, rougher concentrate, after primary cleaning,  and final output concentrate. Overall the purification process uncreases the concentration of the metals as it progresses along the stages then graphed the data for better visulization of the information."
   ]
  },
  {
   "cell_type": "code",
   "execution_count": null,
   "metadata": {},
   "outputs": [
    {
     "data": {
      "text/plain": [
       "{'raw_feed_au': 7.1707172,\n",
       " 'raw_feed_ag': 7.8323474,\n",
       " 'raw_feed_pb': 3.2189307,\n",
       " 'rougher_concentrate_au': 17.401543,\n",
       " 'rougher_concentrate_ag': 10.580474,\n",
       " 'rougher_concentrate_pb': 6.8803225,\n",
       " 'primary_cleaner_concentrate_au': 29.164595,\n",
       " 'primary_cleaner_concentrate_ag': 7.4226403,\n",
       " 'primary_cleaner_concentrate_pb': 8.620294,\n",
       " 'final_concentrate_au': 39.467216,\n",
       " 'final_concentrate_ag': 4.716907,\n",
       " 'final_concentrate_pb': 9.11356}"
      ]
     },
     "execution_count": 35,
     "metadata": {},
     "output_type": "execute_result"
    }
   ],
   "source": [
    "mean_concentrations = {\n",
    "    f'{stage}_{metal}': \n",
    "    train_df[f'rougher.input.feed_{metal}'].mean() \n",
    "    if stage == 'raw_feed' \n",
    "    else train_df[f'{process}.output.concentrate_{metal}'].mean()\n",
    "    for process, stages in {\n",
    "        'rougher': ['rougher_concentrate'],\n",
    "        'primary_cleaner': ['primary_cleaner_concentrate'],\n",
    "        'final': ['final_concentrate']\n",
    "    }.items()\n",
    "    for stage in ['raw_feed'] + stages\n",
    "    for metal in ['au', 'ag', 'pb']\n",
    "}\n",
    "mean_concentrations"
   ]
  },
  {
   "cell_type": "code",
   "execution_count": null,
   "metadata": {},
   "outputs": [
    {
     "data": {
      "image/png": "[encoded data removed]",
      "text/plain": [
       "<Figure size 1000x500 with 1 Axes>"
      ]
     },
     "metadata": {},
     "output_type": "display_data"
    }
   ],
   "source": [
    "plt.figure(figsize=(10, 5))\n",
    "\n",
    "plt.hist(train_df['rougher.input.feed_au'], bins=35, alpha=0.5, label='Raw Feed', color='blue')\n",
    "plt.hist(train_df['rougher.output.concentrate_au'], bins=35, alpha=0.5, label='Rougher Concentrate', color='purple')\n",
    "plt.hist(train_df['primary_cleaner.output.concentrate_au'], bins=35, alpha=0.5, label='Primary Cleaner Concentrate', color='green')\n",
    "plt.hist(train_df['final.output.concentrate_au'], bins=35, alpha=0.5, label='Final Concentrate', color='red')\n",
    "\n",
    "plt.title('Concentration of Gold')\n",
    "plt.xlabel('Concentration')\n",
    "plt.ylabel('Frequency')\n",
    "plt.legend()\n",
    "plt.show()"
   ]
  },
  {
   "cell_type": "code",
   "execution_count": null,
   "metadata": {},
   "outputs": [
    {
     "data": {
      "image/png": "[encoded data removed]",
      "text/plain": [
       "<Figure size 1000x500 with 1 Axes>"
      ]
     },
     "metadata": {},
     "output_type": "display_data"
    }
   ],
   "source": [
    "plt.figure(figsize=(10, 5))\n",
    "\n",
    "plt.hist(train_df['rougher.input.feed_ag'], bins=35, alpha=0.5, label='Raw Feed', color='blue')\n",
    "plt.hist(train_df['rougher.output.concentrate_ag'], bins=35, alpha=0.5, label='Rougher Concentrate', color='purple')\n",
    "plt.hist(train_df['primary_cleaner.output.concentrate_ag'], bins=35, alpha=0.5, label='Primary Cleaner Concentrate', color='green')\n",
    "plt.hist(train_df['final.output.concentrate_ag'], bins=35, alpha=0.5, label='Final Concentrate', color='red')\n",
    "\n",
    "plt.title('Concentration of Silver')\n",
    "plt.xlabel('Concentration')\n",
    "plt.ylabel('Frequency')\n",
    "plt.legend()\n",
    "plt.show()"
   ]
  },
  {
   "cell_type": "code",
   "execution_count": null,
   "metadata": {},
   "outputs": [
    {
     "data": {
      "image/png": "[encoded data removed]",
      "text/plain": [
       "<Figure size 1000x500 with 1 Axes>"
      ]
     },
     "metadata": {},
     "output_type": "display_data"
    }
   ],
   "source": [
    "plt.figure(figsize=(10, 5))\n",
    "\n",
    "plt.hist(train_df['rougher.input.feed_pb'], bins=35, alpha=0.5, label='Raw Feed', color='blue')\n",
    "plt.hist(train_df['rougher.output.concentrate_pb'], bins=35, alpha=0.5, label='Rougher Concentrate', color='purple')\n",
    "plt.hist(train_df['primary_cleaner.output.concentrate_pb'], bins=35, alpha=0.5, label='Primary Cleaner Concentrate', color='green')\n",
    "plt.hist(train_df['final.output.concentrate_pb'], bins=35, alpha=0.5, label='Final Concentrate', color='red')\n",
    "\n",
    "plt.title('Concentration of Lead')\n",
    "plt.xlabel('Concentration')\n",
    "plt.ylabel('Frequency')\n",
    "plt.legend()\n",
    "plt.show()"
   ]
  },
  {
   "cell_type": "markdown",
   "metadata": {},
   "source": [
    "The concentration distributions for the metals Gold, Silver, and Lead all trend toward a increase in concentration as the purification process progresses. Gold went from 7.17 to 39.46. of the 3 metals Gold(au) has the greatest increases in concentrations showing it has the most effective processing with distinct improvements. Silver(ag) on the other hand has improvements after the flotation stages but during the cleaning processes the concentration drops makeing the purification process less efficient than that of Gold. Silver going from 7.83 to 4.71. Lead(pb) has an upward trent during the beginning of the process but tapers off after the primary cleaning of the metal. It started at 3.21 and went to 9.11 as the final concentration."
   ]
  },
  {
   "cell_type": "markdown",
   "metadata": {},
   "source": [
    "### Feed particle size distributions"
   ]
  },
  {
   "cell_type": "code",
   "execution_count": null,
   "metadata": {},
   "outputs": [
    {
     "data": {
      "text/plain": [
       "count    16860.000000\n",
       "mean        58.676445\n",
       "std         23.624889\n",
       "min          9.659576\n",
       "25%         47.597875\n",
       "50%         54.475704\n",
       "75%         64.587650\n",
       "max        484.967468\n",
       "Name: rougher.input.feed_size, dtype: float64"
      ]
     },
     "execution_count": 23,
     "metadata": {},
     "output_type": "execute_result"
    }
   ],
   "source": [
    "train_df['rougher.input.feed_size'].describe()"
   ]
  },
  {
   "cell_type": "code",
   "execution_count": null,
   "metadata": {},
   "outputs": [
    {
     "data": {
      "text/plain": [
       "count    5856.000000\n",
       "mean       55.937538\n",
       "std        22.681513\n",
       "min         0.046369\n",
       "25%        43.898468\n",
       "50%        50.109022\n",
       "75%        61.608217\n",
       "max       477.445465\n",
       "Name: rougher.input.feed_size, dtype: float64"
      ]
     },
     "execution_count": 24,
     "metadata": {},
     "output_type": "execute_result"
    }
   ],
   "source": [
    "test_df['rougher.input.feed_size'].describe()"
   ]
  },
  {
   "cell_type": "code",
   "execution_count": null,
   "metadata": {},
   "outputs": [
    {
     "data": {
      "image/png": "[encoded data removed]",
      "text/plain": [
       "<Figure size 640x480 with 1 Axes>"
      ]
     },
     "metadata": {},
     "output_type": "display_data"
    }
   ],
   "source": [
    "plt.figure()\n",
    "plt.hist(train_df['rougher.input.feed_size'], bins=100, alpha=0.5, label='Train Feed Size', color='red', density=True)\n",
    "plt.hist(test_df['rougher.input.feed_size'], bins=100, alpha=0.5, label='Test Feed Size', color='green', density=True)\n",
    "plt.title('Feed Particle Size Distribution: Train vs Test (Normalized)')\n",
    "plt.xlabel('Feed Size')\n",
    "plt.ylabel('Density')\n",
    "plt.legend()\n",
    "plt.show()"
   ]
  },
  {
   "cell_type": "markdown",
   "metadata": {},
   "source": [
    "PLotted the distributions of feed particle sizes from the training and test set. Based on the distributions seem to be similar to one another. The test set has a higher max density. Overall the training set and test set both average in the range between 25-75 feed size. Both datasets contain outliers."
   ]
  },
  {
   "cell_type": "markdown",
   "metadata": {},
   "source": [
    "### Total concentrations of all substances in different stages"
   ]
  },
  {
   "cell_type": "code",
   "execution_count": null,
   "metadata": {},
   "outputs": [
    {
     "name": "stdout",
     "output_type": "stream",
     "text": [
      "Total feed concentration sum:\n",
      " 307222.8\n",
      "Total rougher concentration sum:\n",
      " 587779.0\n",
      "Total primary_cleaner concentration sum:\n",
      " 762198.94\n",
      "Total final concentration sum:\n",
      " 898598.94\n"
     ]
    }
   ],
   "source": [
    "metals = ['au', 'ag', 'pb']\n",
    "processes = ['feed', 'rougher', 'primary_cleaner', 'final']\n",
    "\n",
    "for process in processes:\n",
    "    if process == 'feed':\n",
    "        train_df[f'total_{process}_concentration'] = sum(train_df[f'rougher.input.feed_{metal}'] for metal in metals)\n",
    "    else:\n",
    "        train_df[f'total_{process}_concentration'] = sum(train_df[f'{process}.output.concentrate_{metal}'] for metal in metals)\n",
    "    \n",
    "    print(f'Total {process} concentration sum:\\n', train_df[f'total_{process}_concentration'].sum())\n"
   ]
  },
  {
   "cell_type": "code",
   "execution_count": null,
   "metadata": {},
   "outputs": [
    {
     "name": "stdout",
     "output_type": "stream",
     "text": [
      "Total feed concentration distribution:\n",
      " count    16860.000000\n",
      "mean        18.221994\n",
      "std          7.304653\n",
      "min          0.000000\n",
      "25%         16.139539\n",
      "50%         18.709881\n",
      "75%         22.327806\n",
      "max         35.071987\n",
      "Name: total_feed_concentration, dtype: float64\n",
      "Total rougher concentration distribution:\n",
      " count    16860.000000\n",
      "mean        34.862335\n",
      "std         13.532065\n",
      "min          0.000000\n",
      "25%         36.599328\n",
      "50%         39.451746\n",
      "75%         41.625835\n",
      "max         55.568687\n",
      "Name: total_rougher_concentration, dtype: float64\n",
      "Total primary_cleaner concentration distribution:\n",
      " count    16860.000000\n",
      "mean        45.207527\n",
      "std         16.471500\n",
      "min          0.000000\n",
      "25%         48.328792\n",
      "50%         51.260515\n",
      "75%         53.177716\n",
      "max         60.269005\n",
      "Name: total_primary_cleaner_concentration, dtype: float64\n",
      "Total final concentration distribution:\n",
      " count    16860.000000\n",
      "mean        53.297684\n",
      "std         18.406199\n",
      "min          0.000000\n",
      "25%         58.520161\n",
      "50%         59.983770\n",
      "75%         60.934463\n",
      "max         65.575256\n",
      "Name: total_final_concentration, dtype: float64\n"
     ]
    }
   ],
   "source": [
    "metals = ['au', 'ag', 'pb']\n",
    "processes = ['feed', 'rougher', 'primary_cleaner', 'final']\n",
    "\n",
    "for process in processes:\n",
    "    if process == 'feed':\n",
    "        train_df[f'total_{process}_concentration'] = sum(train_df[f'rougher.input.feed_{metal}'] for metal in metals)\n",
    "    else:\n",
    "        train_df[f'total_{process}_concentration'] = sum(train_df[f'{process}.output.concentrate_{metal}'] for metal in metals)\n",
    "    \n",
    "    print(f'Total {process} concentration distribution:\\n', train_df[f'total_{process}_concentration'].describe())"
   ]
  },
  {
   "cell_type": "markdown",
   "metadata": {},
   "source": [
    "Looking at the total concentrations of the substances at diffrent stages there are values of 0 or near zero concentration throught the process. In order to better the data I will set a threshold of .1 to remove the abnormal values in the distribution."
   ]
  },
  {
   "cell_type": "code",
   "execution_count": null,
   "metadata": {},
   "outputs": [
    {
     "name": "stdout",
     "output_type": "stream",
     "text": [
      "4\n"
     ]
    }
   ],
   "source": [
    "threshold = .1\n",
    "\n",
    "near_zero= [ \n",
    "    train_df[f'total_feed_concentration'] < threshold,\n",
    "    train_df[f'total_rougher_concentration'] < threshold,\n",
    "    train_df[f'total_primary_cleaner_concentration'] < threshold,\n",
    "    train_df[f'total_final_concentration'] < threshold\n",
    "]\n",
    "print(len(near_zero))\n",
    "\n"
   ]
  },
  {
   "cell_type": "code",
   "execution_count": null,
   "metadata": {},
   "outputs": [
    {
     "name": "stdout",
     "output_type": "stream",
     "text": [
      "       total_feed_concentration  total_rougher_concentration  \\\n",
      "count              14419.000000                 14419.000000   \n",
      "mean                  20.098270                    39.529274   \n",
      "std                    4.613378                     4.970397   \n",
      "min                    0.252715                     0.231744   \n",
      "25%                   16.870832                    38.000696   \n",
      "50%                   19.226112                    39.940823   \n",
      "75%                   22.879564                    41.938856   \n",
      "max                   35.071987                    55.568687   \n",
      "\n",
      "       total_primary_cleaner_concentration  total_final_concentration  \n",
      "count                         14419.000000               14419.000000  \n",
      "mean                             50.615662                  59.284580  \n",
      "std                               5.679201                   4.923109  \n",
      "min                               0.219862                   0.744251  \n",
      "25%                              49.556532                  59.107826  \n",
      "50%                              51.706821                  60.196983  \n",
      "75%                              53.365070                  61.014963  \n",
      "max                              59.251060                  65.575256  \n"
     ]
    }
   ],
   "source": [
    "thresh_filter= train_df[(train_df[f'total_feed_concentration'] >= threshold) &\n",
    "    (train_df[f'total_rougher_concentration'] >= threshold) &\n",
    "    (train_df[f'total_primary_cleaner_concentration'] >= threshold) &\n",
    "    (train_df[f'total_final_concentration'] >= threshold)]\n",
    "\n",
    "print(thresh_filter[[f'total_feed_concentration',\n",
    "                       f'total_rougher_concentration',\n",
    "                       f'total_primary_cleaner_concentration',\n",
    "                       f'total_final_concentration']].describe())"
   ]
  },
  {
   "cell_type": "markdown",
   "metadata": {},
   "source": [
    "Made histograms of the total concentratoins through the process."
   ]
  },
  {
   "cell_type": "code",
   "execution_count": null,
   "metadata": {},
   "outputs": [
    {
     "data": {
      "image/png": "[encoded data removed]",
      "text/plain": [
       "<Figure size 1000x400 with 3 Axes>"
      ]
     },
     "metadata": {},
     "output_type": "display_data"
    },
    {
     "data": {
      "image/png": "[encoded data removed]",
      "text/plain": [
       "<Figure size 640x480 with 1 Axes>"
      ]
     },
     "metadata": {},
     "output_type": "display_data"
    }
   ],
   "source": [
    "plt.figure(figsize=(10, 4))\n",
    "\n",
    "plt.subplot(1, 3, 1)\n",
    "plt.hist(thresh_filter['total_feed_concentration'], bins=40, color='blue', alpha=0.7)\n",
    "plt.title('Total Concentration of Raw Feed')\n",
    "plt.xlabel('Concentration')\n",
    "plt.ylabel('Frequency')\n",
    "\n",
    "\n",
    "plt.subplot(1, 3, 2)\n",
    "plt.hist(thresh_filter['total_rougher_concentration'], bins=40, color='green', alpha=0.7)\n",
    "plt.title('Total Concentration of Rougher Concentrate')\n",
    "plt.xlabel('Concentration')\n",
    "\n",
    "plt.subplot(1, 3, 3)\n",
    "plt.hist(thresh_filter['total_primary_cleaner_concentration'], bins=40, color='red', alpha=0.7)\n",
    "plt.title('Total Concentration of First clean Concentrate')\n",
    "plt.xlabel('Concentration')\n",
    "\n",
    "plt.tight_layout()\n",
    "plt.show()\n",
    "\n",
    "plt.subplot(1, 3, 3)\n",
    "plt.hist(thresh_filter['total_final_concentration'], bins=40, color='purple', alpha=0.7)\n",
    "plt.title('Total Concentration of Final Concentrate')\n",
    "plt.xlabel('Concentration')\n",
    "\n",
    "plt.tight_layout()\n",
    "plt.show()"
   ]
  },
  {
   "cell_type": "markdown",
   "metadata": {},
   "source": [
    "During various stages of metal processsing, we analyzed the total concentrations of Gold (au), Silver (ag) and Lead (pb). When searching for concentrations of 0 I fould 4 that fell below the threshold of .1 which are anomalies. It is hihgly unusual for metals to be near 0 during any part of the process. During the rougher concentrate stage, concentrations were more tightly spread compared to other stages. The final concentrate stage showes outliers that could affect model performance."
   ]
  },
  {
   "cell_type": "markdown",
   "metadata": {},
   "source": [
    "## Build the model"
   ]
  },
  {
   "cell_type": "markdown",
   "metadata": {},
   "source": [
    "### Function for sMAPE"
   ]
  },
  {
   "cell_type": "code",
   "execution_count": null,
   "metadata": {},
   "outputs": [],
   "source": [
    "def smape(actual, predicted):\n",
    "    return (1 / len(actual)) * np.sum(np.abs(predicted - actual) / ((np.abs(actual) + np.abs(predicted))/2))"
   ]
  },
  {
   "cell_type": "markdown",
   "metadata": {},
   "source": [
    "### Train models"
   ]
  },
  {
   "cell_type": "markdown",
   "metadata": {},
   "source": [
    "#### features/target"
   ]
  },
  {
   "cell_type": "code",
   "execution_count": null,
   "metadata": {},
   "outputs": [],
   "source": [
    "features = train_df.drop('final.output.recovery', axis= 1)\n",
    "target= train_df['final.output.recovery']"
   ]
  },
  {
   "cell_type": "code",
   "execution_count": null,
   "metadata": {},
   "outputs": [
    {
     "ename": "ValueError",
     "evalue": "The least populated class in y has only 1 member, which is too few. The minimum number of groups for any class cannot be less than 2.",
     "output_type": "error",
     "traceback": [
      "\u001b[1;31m---------------------------------------------------------------------------\u001b[0m",
      "\u001b[1;31mValueError\u001b[0m                                Traceback (most recent call last)",
      "Cell \u001b[1;32mIn[33], line 1\u001b[0m\n\u001b[1;32m----> 1\u001b[0m features_train, features_val, target_train, target_val \u001b[38;5;241m=\u001b[39m \u001b[43mtrain_test_split\u001b[49m\u001b[43m(\u001b[49m\u001b[43mfeatures\u001b[49m\u001b[43m,\u001b[49m\u001b[43m \u001b[49m\u001b[43mtarget\u001b[49m\u001b[43m,\u001b[49m\u001b[43m \u001b[49m\u001b[43mtest_size\u001b[49m\u001b[38;5;241;43m=\u001b[39;49m\u001b[38;5;241;43m0.2\u001b[39;49m\u001b[43m,\u001b[49m\u001b[43m \u001b[49m\u001b[43mrandom_state\u001b[49m\u001b[38;5;241;43m=\u001b[39;49m\u001b[38;5;241;43m12345\u001b[39;49m\u001b[43m,\u001b[49m\u001b[43m \u001b[49m\u001b[43mstratify\u001b[49m\u001b[38;5;241;43m=\u001b[39;49m\u001b[43m \u001b[49m\u001b[43mtarget\u001b[49m\u001b[43m)\u001b[49m\n",
      "File \u001b[1;32mc:\\Users\\Somil Patel\\anaconda3\\Lib\\site-packages\\sklearn\\utils\\_param_validation.py:213\u001b[0m, in \u001b[0;36mvalidate_params.<locals>.decorator.<locals>.wrapper\u001b[1;34m(*args, **kwargs)\u001b[0m\n\u001b[0;32m    207\u001b[0m \u001b[38;5;28;01mtry\u001b[39;00m:\n\u001b[0;32m    208\u001b[0m     \u001b[38;5;28;01mwith\u001b[39;00m config_context(\n\u001b[0;32m    209\u001b[0m         skip_parameter_validation\u001b[38;5;241m=\u001b[39m(\n\u001b[0;32m    210\u001b[0m             prefer_skip_nested_validation \u001b[38;5;129;01mor\u001b[39;00m global_skip_validation\n\u001b[0;32m    211\u001b[0m         )\n\u001b[0;32m    212\u001b[0m     ):\n\u001b[1;32m--> 213\u001b[0m         \u001b[38;5;28;01mreturn\u001b[39;00m \u001b[43mfunc\u001b[49m\u001b[43m(\u001b[49m\u001b[38;5;241;43m*\u001b[39;49m\u001b[43margs\u001b[49m\u001b[43m,\u001b[49m\u001b[43m \u001b[49m\u001b[38;5;241;43m*\u001b[39;49m\u001b[38;5;241;43m*\u001b[39;49m\u001b[43mkwargs\u001b[49m\u001b[43m)\u001b[49m\n\u001b[0;32m    214\u001b[0m \u001b[38;5;28;01mexcept\u001b[39;00m InvalidParameterError \u001b[38;5;28;01mas\u001b[39;00m e:\n\u001b[0;32m    215\u001b[0m     \u001b[38;5;66;03m# When the function is just a wrapper around an estimator, we allow\u001b[39;00m\n\u001b[0;32m    216\u001b[0m     \u001b[38;5;66;03m# the function to delegate validation to the estimator, but we replace\u001b[39;00m\n\u001b[0;32m    217\u001b[0m     \u001b[38;5;66;03m# the name of the estimator by the name of the function in the error\u001b[39;00m\n\u001b[0;32m    218\u001b[0m     \u001b[38;5;66;03m# message to avoid confusion.\u001b[39;00m\n\u001b[0;32m    219\u001b[0m     msg \u001b[38;5;241m=\u001b[39m re\u001b[38;5;241m.\u001b[39msub(\n\u001b[0;32m    220\u001b[0m         \u001b[38;5;124mr\u001b[39m\u001b[38;5;124m\"\u001b[39m\u001b[38;5;124mparameter of \u001b[39m\u001b[38;5;124m\\\u001b[39m\u001b[38;5;124mw+ must be\u001b[39m\u001b[38;5;124m\"\u001b[39m,\n\u001b[0;32m    221\u001b[0m         \u001b[38;5;124mf\u001b[39m\u001b[38;5;124m\"\u001b[39m\u001b[38;5;124mparameter of \u001b[39m\u001b[38;5;132;01m{\u001b[39;00mfunc\u001b[38;5;241m.\u001b[39m\u001b[38;5;18m__qualname__\u001b[39m\u001b[38;5;132;01m}\u001b[39;00m\u001b[38;5;124m must be\u001b[39m\u001b[38;5;124m\"\u001b[39m,\n\u001b[0;32m    222\u001b[0m         \u001b[38;5;28mstr\u001b[39m(e),\n\u001b[0;32m    223\u001b[0m     )\n",
      "File \u001b[1;32mc:\\Users\\Somil Patel\\anaconda3\\Lib\\site-packages\\sklearn\\model_selection\\_split.py:2681\u001b[0m, in \u001b[0;36mtrain_test_split\u001b[1;34m(test_size, train_size, random_state, shuffle, stratify, *arrays)\u001b[0m\n\u001b[0;32m   2677\u001b[0m         CVClass \u001b[38;5;241m=\u001b[39m ShuffleSplit\n\u001b[0;32m   2679\u001b[0m     cv \u001b[38;5;241m=\u001b[39m CVClass(test_size\u001b[38;5;241m=\u001b[39mn_test, train_size\u001b[38;5;241m=\u001b[39mn_train, random_state\u001b[38;5;241m=\u001b[39mrandom_state)\n\u001b[1;32m-> 2681\u001b[0m     train, test \u001b[38;5;241m=\u001b[39m \u001b[38;5;28;43mnext\u001b[39;49m\u001b[43m(\u001b[49m\u001b[43mcv\u001b[49m\u001b[38;5;241;43m.\u001b[39;49m\u001b[43msplit\u001b[49m\u001b[43m(\u001b[49m\u001b[43mX\u001b[49m\u001b[38;5;241;43m=\u001b[39;49m\u001b[43marrays\u001b[49m\u001b[43m[\u001b[49m\u001b[38;5;241;43m0\u001b[39;49m\u001b[43m]\u001b[49m\u001b[43m,\u001b[49m\u001b[43m \u001b[49m\u001b[43my\u001b[49m\u001b[38;5;241;43m=\u001b[39;49m\u001b[43mstratify\u001b[49m\u001b[43m)\u001b[49m\u001b[43m)\u001b[49m\n\u001b[0;32m   2683\u001b[0m \u001b[38;5;28;01mreturn\u001b[39;00m \u001b[38;5;28mlist\u001b[39m(\n\u001b[0;32m   2684\u001b[0m     chain\u001b[38;5;241m.\u001b[39mfrom_iterable(\n\u001b[0;32m   2685\u001b[0m         (_safe_indexing(a, train), _safe_indexing(a, test)) \u001b[38;5;28;01mfor\u001b[39;00m a \u001b[38;5;129;01min\u001b[39;00m arrays\n\u001b[0;32m   2686\u001b[0m     )\n\u001b[0;32m   2687\u001b[0m )\n",
      "File \u001b[1;32mc:\\Users\\Somil Patel\\anaconda3\\Lib\\site-packages\\sklearn\\model_selection\\_split.py:1749\u001b[0m, in \u001b[0;36mBaseShuffleSplit.split\u001b[1;34m(self, X, y, groups)\u001b[0m\n\u001b[0;32m   1719\u001b[0m \u001b[38;5;250m\u001b[39m\u001b[38;5;124;03m\"\"\"Generate indices to split data into training and test set.\u001b[39;00m\n\u001b[0;32m   1720\u001b[0m \n\u001b[0;32m   1721\u001b[0m \u001b[38;5;124;03mParameters\u001b[39;00m\n\u001b[1;32m   (...)\u001b[0m\n\u001b[0;32m   1746\u001b[0m \u001b[38;5;124;03mto an integer.\u001b[39;00m\n\u001b[0;32m   1747\u001b[0m \u001b[38;5;124;03m\"\"\"\u001b[39;00m\n\u001b[0;32m   1748\u001b[0m X, y, groups \u001b[38;5;241m=\u001b[39m indexable(X, y, groups)\n\u001b[1;32m-> 1749\u001b[0m \u001b[43m\u001b[49m\u001b[38;5;28;43;01mfor\u001b[39;49;00m\u001b[43m \u001b[49m\u001b[43mtrain\u001b[49m\u001b[43m,\u001b[49m\u001b[43m \u001b[49m\u001b[43mtest\u001b[49m\u001b[43m \u001b[49m\u001b[38;5;129;43;01min\u001b[39;49;00m\u001b[43m \u001b[49m\u001b[38;5;28;43mself\u001b[39;49m\u001b[38;5;241;43m.\u001b[39;49m\u001b[43m_iter_indices\u001b[49m\u001b[43m(\u001b[49m\u001b[43mX\u001b[49m\u001b[43m,\u001b[49m\u001b[43m \u001b[49m\u001b[43my\u001b[49m\u001b[43m,\u001b[49m\u001b[43m \u001b[49m\u001b[43mgroups\u001b[49m\u001b[43m)\u001b[49m\u001b[43m:\u001b[49m\n\u001b[0;32m   1750\u001b[0m \u001b[43m    \u001b[49m\u001b[38;5;28;43;01myield\u001b[39;49;00m\u001b[43m \u001b[49m\u001b[43mtrain\u001b[49m\u001b[43m,\u001b[49m\u001b[43m \u001b[49m\u001b[43mtest\u001b[49m\n",
      "File \u001b[1;32mc:\\Users\\Somil Patel\\anaconda3\\Lib\\site-packages\\sklearn\\model_selection\\_split.py:2150\u001b[0m, in \u001b[0;36mStratifiedShuffleSplit._iter_indices\u001b[1;34m(self, X, y, groups)\u001b[0m\n\u001b[0;32m   2148\u001b[0m class_counts \u001b[38;5;241m=\u001b[39m np\u001b[38;5;241m.\u001b[39mbincount(y_indices)\n\u001b[0;32m   2149\u001b[0m \u001b[38;5;28;01mif\u001b[39;00m np\u001b[38;5;241m.\u001b[39mmin(class_counts) \u001b[38;5;241m<\u001b[39m \u001b[38;5;241m2\u001b[39m:\n\u001b[1;32m-> 2150\u001b[0m     \u001b[38;5;28;01mraise\u001b[39;00m \u001b[38;5;167;01mValueError\u001b[39;00m(\n\u001b[0;32m   2151\u001b[0m         \u001b[38;5;124m\"\u001b[39m\u001b[38;5;124mThe least populated class in y has only 1\u001b[39m\u001b[38;5;124m\"\u001b[39m\n\u001b[0;32m   2152\u001b[0m         \u001b[38;5;124m\"\u001b[39m\u001b[38;5;124m member, which is too few. The minimum\u001b[39m\u001b[38;5;124m\"\u001b[39m\n\u001b[0;32m   2153\u001b[0m         \u001b[38;5;124m\"\u001b[39m\u001b[38;5;124m number of groups for any class cannot\u001b[39m\u001b[38;5;124m\"\u001b[39m\n\u001b[0;32m   2154\u001b[0m         \u001b[38;5;124m\"\u001b[39m\u001b[38;5;124m be less than 2.\u001b[39m\u001b[38;5;124m\"\u001b[39m\n\u001b[0;32m   2155\u001b[0m     )\n\u001b[0;32m   2157\u001b[0m \u001b[38;5;28;01mif\u001b[39;00m n_train \u001b[38;5;241m<\u001b[39m n_classes:\n\u001b[0;32m   2158\u001b[0m     \u001b[38;5;28;01mraise\u001b[39;00m \u001b[38;5;167;01mValueError\u001b[39;00m(\n\u001b[0;32m   2159\u001b[0m         \u001b[38;5;124m\"\u001b[39m\u001b[38;5;124mThe train_size = \u001b[39m\u001b[38;5;132;01m%d\u001b[39;00m\u001b[38;5;124m should be greater or \u001b[39m\u001b[38;5;124m\"\u001b[39m\n\u001b[0;32m   2160\u001b[0m         \u001b[38;5;124m\"\u001b[39m\u001b[38;5;124mequal to the number of classes = \u001b[39m\u001b[38;5;132;01m%d\u001b[39;00m\u001b[38;5;124m\"\u001b[39m \u001b[38;5;241m%\u001b[39m (n_train, n_classes)\n\u001b[0;32m   2161\u001b[0m     )\n",
      "\u001b[1;31mValueError\u001b[0m: The least populated class in y has only 1 member, which is too few. The minimum number of groups for any class cannot be less than 2."
     ]
    }
   ],
   "source": [
    "features_train, features_val, target_train, target_val = train_test_split(features, target, test_size=0.2, random_state=12345, stratify= target)"
   ]
  },
  {
   "cell_type": "markdown",
   "metadata": {},
   "source": [
    "### Function for Final sMAPE"
   ]
  },
  {
   "cell_type": "code",
   "execution_count": null,
   "metadata": {},
   "outputs": [],
   "source": []
  }
 ],
 "metadata": {
  "kernelspec": {
   "display_name": "base",
   "language": "python",
   "name": "python3"
  },
  "language_info": {
   "codemirror_mode": {
    "name": "ipython",
    "version": 3
   },
   "file_extension": ".py",
   "mimetype": "text/x-python",
   "name": "python",
   "nbconvert_exporter": "python",
   "pygments_lexer": "ipython3",
   "version": "3.12.4"
  }
 },
 "nbformat": 4,
 "nbformat_minor": 2
}
